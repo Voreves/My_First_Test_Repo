{
  "nbformat": 4,
  "nbformat_minor": 0,
  "metadata": {
    "colab": {
      "name": "Disimage.ipynb",
      "provenance": [],
      "collapsed_sections": [],
      "authorship_tag": "ABX9TyNxQTLKsXkAHLDBNzmDse8Q"
    },
    "kernelspec": {
      "name": "python3",
      "display_name": "Python 3"
    }
  },
  "cells": [
    {
      "cell_type": "markdown",
      "metadata": {
        "id": "8xCkvRO4aLgn",
        "colab_type": "text"
      },
      "source": [
        "## Пытаюсь сделать лабу\n",
        "* Список\n",
        "* ![рисунок](https://drive.google.com/uc?id=1a5GccSfeQ6W20ATgyyO86hsMHkrv0pAI)\n",
        "* |   почему   |   таблицы   |\n",
        "|:----------:|:-----------:|\n",
        "| в маркдаун | не работают |\n",
        "* [ссылка на мой профиль вк][1]\n",
        "[1]: https://vk.com/id557517802 \"мой профиль вк\"\n",
        "\n",
        "\n",
        "\n",
        "\n",
        "\n",
        "\n"
      ]
    }
  ]
}