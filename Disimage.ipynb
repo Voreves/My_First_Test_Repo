{
  "nbformat": 4,
  "nbformat_minor": 0,
  "metadata": {
    "colab": {
      "name": "Disimage.ipynb",
      "provenance": [],
      "collapsed_sections": [],
      "authorship_tag": "ABX9TyP0DSWF0p3SrGjlZl1ei0x5"
    },
    "kernelspec": {
      "name": "python3",
      "display_name": "Python 3"
    }
  },
  "cells": [
    {
      "cell_type": "markdown",
      "metadata": {
        "id": "8xCkvRO4aLgn",
        "colab_type": "text"
      },
      "source": [
        "## Пытаюсь сделать лабу\n",
        "* Список бригады\n",
        "* Северов\n",
        "* Вяткин\n"
      ]
    },
    {
      "cell_type": "markdown",
      "metadata": {
        "id": "nEjNy6y1f-0-",
        "colab_type": "text"
      },
      "source": [
        "![](https://drive.google.com/uc?id=1a5GccSfeQ6W20ATgyyO86hsMHkrv0pAI)"
      ]
    },
    {
      "cell_type": "markdown",
      "metadata": {
        "id": "_MagqeETfpZA",
        "colab_type": "text"
      },
      "source": [
        "|   Заголовок1  |  Заголовок2  |\n",
        "|:----------:|:-----------:|\n",
        "| Ячейка1 | Ячейка2 |"
      ]
    },
    {
      "cell_type": "markdown",
      "metadata": {
        "id": "kDmnYgOfgEYq",
        "colab_type": "text"
      },
      "source": [
        "* [репозиторий][1]\n",
        "[1]: https://github.com/Voreves/My_First_Test_Repo \"репозиторий\""
      ]
    }
  ]
}