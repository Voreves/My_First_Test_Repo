{
  "nbformat": 4,
  "nbformat_minor": 0,
  "metadata": {
    "colab": {
      "name": "Untitled0.ipynb",
      "provenance": [],
      "authorship_tag": "ABX9TyNKDD12WxajiaurGSGKLHWS",
      "include_colab_link": true
    },
    "kernelspec": {
      "name": "python3",
      "display_name": "Python 3"
    }
  },
  "cells": [
    {
      "cell_type": "markdown",
      "metadata": {
        "id": "view-in-github",
        "colab_type": "text"
      },
      "source": [
        "<a href=\"https://colab.research.google.com/github/Voreves/My_First_Test_Repo/blob/master/Untitled0.ipynb\" target=\"_parent\"><img src=\"https://colab.research.google.com/assets/colab-badge.svg\" alt=\"Open In Colab\"/></a>"
      ]
    },
    {
      "cell_type": "code",
      "metadata": {
        "id": "gAXYuowRvhZB",
        "colab_type": "code",
        "colab": {}
      },
      "source": [
        "import pandas as pd\n",
        "import numpy as np"
      ],
      "execution_count": 0,
      "outputs": []
    },
    {
      "cell_type": "code",
      "metadata": {
        "id": "bJEr_U5ryEWW",
        "colab_type": "code",
        "outputId": "a7529734-90dd-4529-e760-a04ca9796502",
        "colab": {
          "base_uri": "https://localhost:8080/",
          "height": 855
        }
      },
      "source": [
        "#С таблицами с других сайтов выходит ошибка, либо таблицы показываются неккоректно\n",
        "url = \"https://so-ups.ru/index.php?id=975&tx_ms1cdu_pi1%5Bkpo%5D=1019&tx_ms1cdu_pi1%5Bdt%5D=07.06.2020\"\n",
        "id_table = 0\n",
        "df_power = pd.read_html(url, header = 0, index_col = 0)[id_table]\n",
        "df_power"
      ],
      "execution_count": 2,
      "outputs": [
        {
          "output_type": "execute_result",
          "data": {
            "text/html": [
              "<div>\n",
              "<style scoped>\n",
              "    .dataframe tbody tr th:only-of-type {\n",
              "        vertical-align: middle;\n",
              "    }\n",
              "\n",
              "    .dataframe tbody tr th {\n",
              "        vertical-align: top;\n",
              "    }\n",
              "\n",
              "    .dataframe thead th {\n",
              "        text-align: right;\n",
              "    }\n",
              "</style>\n",
              "<table border=\"1\" class=\"dataframe\">\n",
              "  <thead>\n",
              "    <tr style=\"text-align: right;\">\n",
              "      <th></th>\n",
              "      <th>Мощность генерации (МВт)</th>\n",
              "      <th>Мощность потребления (МВт)</th>\n",
              "    </tr>\n",
              "    <tr>\n",
              "      <th>Время Мск</th>\n",
              "      <th></th>\n",
              "      <th></th>\n",
              "    </tr>\n",
              "  </thead>\n",
              "  <tbody>\n",
              "    <tr>\n",
              "      <th>07-06-2020 00:00</th>\n",
              "      <td>93719</td>\n",
              "      <td>92891</td>\n",
              "    </tr>\n",
              "    <tr>\n",
              "      <th>07-06-2020 01:00</th>\n",
              "      <td>91163</td>\n",
              "      <td>90819</td>\n",
              "    </tr>\n",
              "    <tr>\n",
              "      <th>07-06-2020 02:00</th>\n",
              "      <td>89415</td>\n",
              "      <td>89037</td>\n",
              "    </tr>\n",
              "    <tr>\n",
              "      <th>07-06-2020 03:00</th>\n",
              "      <td>88651</td>\n",
              "      <td>88044</td>\n",
              "    </tr>\n",
              "    <tr>\n",
              "      <th>07-06-2020 04:00</th>\n",
              "      <td>88859</td>\n",
              "      <td>88048</td>\n",
              "    </tr>\n",
              "    <tr>\n",
              "      <th>07-06-2020 05:00</th>\n",
              "      <td>89684</td>\n",
              "      <td>88896</td>\n",
              "    </tr>\n",
              "    <tr>\n",
              "      <th>07-06-2020 06:00</th>\n",
              "      <td>91311</td>\n",
              "      <td>90651</td>\n",
              "    </tr>\n",
              "    <tr>\n",
              "      <th>07-06-2020 07:00</th>\n",
              "      <td>93426</td>\n",
              "      <td>92737</td>\n",
              "    </tr>\n",
              "    <tr>\n",
              "      <th>07-06-2020 08:00</th>\n",
              "      <td>96328</td>\n",
              "      <td>95622</td>\n",
              "    </tr>\n",
              "    <tr>\n",
              "      <th>07-06-2020 09:00</th>\n",
              "      <td>99523</td>\n",
              "      <td>98756</td>\n",
              "    </tr>\n",
              "    <tr>\n",
              "      <th>07-06-2020 10:00</th>\n",
              "      <td>102212</td>\n",
              "      <td>101010</td>\n",
              "    </tr>\n",
              "    <tr>\n",
              "      <th>07-06-2020 11:00</th>\n",
              "      <td>102986</td>\n",
              "      <td>101680</td>\n",
              "    </tr>\n",
              "    <tr>\n",
              "      <th>07-06-2020 12:00</th>\n",
              "      <td>102270</td>\n",
              "      <td>100968</td>\n",
              "    </tr>\n",
              "    <tr>\n",
              "      <th>07-06-2020 13:00</th>\n",
              "      <td>101813</td>\n",
              "      <td>100524</td>\n",
              "    </tr>\n",
              "    <tr>\n",
              "      <th>07-06-2020 14:00</th>\n",
              "      <td>102291</td>\n",
              "      <td>101150</td>\n",
              "    </tr>\n",
              "    <tr>\n",
              "      <th>07-06-2020 15:00</th>\n",
              "      <td>102259</td>\n",
              "      <td>101088</td>\n",
              "    </tr>\n",
              "    <tr>\n",
              "      <th>07-06-2020 16:00</th>\n",
              "      <td>102161</td>\n",
              "      <td>101137</td>\n",
              "    </tr>\n",
              "    <tr>\n",
              "      <th>07-06-2020 17:00</th>\n",
              "      <td>102276</td>\n",
              "      <td>101465</td>\n",
              "    </tr>\n",
              "    <tr>\n",
              "      <th>07-06-2020 18:00</th>\n",
              "      <td>101387</td>\n",
              "      <td>100626</td>\n",
              "    </tr>\n",
              "    <tr>\n",
              "      <th>07-06-2020 19:00</th>\n",
              "      <td>100897</td>\n",
              "      <td>100059</td>\n",
              "    </tr>\n",
              "    <tr>\n",
              "      <th>07-06-2020 20:00</th>\n",
              "      <td>101035</td>\n",
              "      <td>100144</td>\n",
              "    </tr>\n",
              "    <tr>\n",
              "      <th>07-06-2020 21:00</th>\n",
              "      <td>101667</td>\n",
              "      <td>100748</td>\n",
              "    </tr>\n",
              "    <tr>\n",
              "      <th>07-06-2020 22:00</th>\n",
              "      <td>99623</td>\n",
              "      <td>98515</td>\n",
              "    </tr>\n",
              "    <tr>\n",
              "      <th>07-06-2020 23:00</th>\n",
              "      <td>96249</td>\n",
              "      <td>95112</td>\n",
              "    </tr>\n",
              "    <tr>\n",
              "      <th>08-06-2020 00:00</th>\n",
              "      <td>93030</td>\n",
              "      <td>92187</td>\n",
              "    </tr>\n",
              "  </tbody>\n",
              "</table>\n",
              "</div>"
            ],
            "text/plain": [
              "                  Мощность генерации (МВт)  Мощность потребления (МВт)\n",
              "Время Мск                                                             \n",
              "07-06-2020 00:00                     93719                       92891\n",
              "07-06-2020 01:00                     91163                       90819\n",
              "07-06-2020 02:00                     89415                       89037\n",
              "07-06-2020 03:00                     88651                       88044\n",
              "07-06-2020 04:00                     88859                       88048\n",
              "07-06-2020 05:00                     89684                       88896\n",
              "07-06-2020 06:00                     91311                       90651\n",
              "07-06-2020 07:00                     93426                       92737\n",
              "07-06-2020 08:00                     96328                       95622\n",
              "07-06-2020 09:00                     99523                       98756\n",
              "07-06-2020 10:00                    102212                      101010\n",
              "07-06-2020 11:00                    102986                      101680\n",
              "07-06-2020 12:00                    102270                      100968\n",
              "07-06-2020 13:00                    101813                      100524\n",
              "07-06-2020 14:00                    102291                      101150\n",
              "07-06-2020 15:00                    102259                      101088\n",
              "07-06-2020 16:00                    102161                      101137\n",
              "07-06-2020 17:00                    102276                      101465\n",
              "07-06-2020 18:00                    101387                      100626\n",
              "07-06-2020 19:00                    100897                      100059\n",
              "07-06-2020 20:00                    101035                      100144\n",
              "07-06-2020 21:00                    101667                      100748\n",
              "07-06-2020 22:00                     99623                       98515\n",
              "07-06-2020 23:00                     96249                       95112\n",
              "08-06-2020 00:00                     93030                       92187"
            ]
          },
          "metadata": {
            "tags": []
          },
          "execution_count": 2
        }
      ]
    },
    {
      "cell_type": "code",
      "metadata": {
        "id": "zjJxUrGnCmww",
        "colab_type": "code",
        "colab": {
          "base_uri": "https://localhost:8080/",
          "height": 142
        },
        "outputId": "5ea1fcdf-1e5b-4eee-ecac-2bc75931d3cb"
      },
      "source": [
        "#Создание таблицы\n",
        "df_init = pd.DataFrame({\n",
        "    'Название': ['Сургутская ГРЭС-2', 'Рефтинская ГРЭС', 'Костромская ГРЭС'],\n",
        "    'мощность': [5657.1, 3800, 3600],\n",
        "    'Собственник': ['Юнипро', 'Кузбассэнерго', 'Интер РАО']\n",
        "})\n",
        "\n",
        "df_init.head()"
      ],
      "execution_count": 3,
      "outputs": [
        {
          "output_type": "execute_result",
          "data": {
            "text/html": [
              "<div>\n",
              "<style scoped>\n",
              "    .dataframe tbody tr th:only-of-type {\n",
              "        vertical-align: middle;\n",
              "    }\n",
              "\n",
              "    .dataframe tbody tr th {\n",
              "        vertical-align: top;\n",
              "    }\n",
              "\n",
              "    .dataframe thead th {\n",
              "        text-align: right;\n",
              "    }\n",
              "</style>\n",
              "<table border=\"1\" class=\"dataframe\">\n",
              "  <thead>\n",
              "    <tr style=\"text-align: right;\">\n",
              "      <th></th>\n",
              "      <th>Название</th>\n",
              "      <th>мощность</th>\n",
              "      <th>Собственник</th>\n",
              "    </tr>\n",
              "  </thead>\n",
              "  <tbody>\n",
              "    <tr>\n",
              "      <th>0</th>\n",
              "      <td>Сургутская ГРЭС-2</td>\n",
              "      <td>5657.1</td>\n",
              "      <td>Юнипро</td>\n",
              "    </tr>\n",
              "    <tr>\n",
              "      <th>1</th>\n",
              "      <td>Рефтинская ГРЭС</td>\n",
              "      <td>3800.0</td>\n",
              "      <td>Кузбассэнерго</td>\n",
              "    </tr>\n",
              "    <tr>\n",
              "      <th>2</th>\n",
              "      <td>Костромская ГРЭС</td>\n",
              "      <td>3600.0</td>\n",
              "      <td>Интер РАО</td>\n",
              "    </tr>\n",
              "  </tbody>\n",
              "</table>\n",
              "</div>"
            ],
            "text/plain": [
              "            Название  мощность    Собственник\n",
              "0  Сургутская ГРЭС-2    5657.1         Юнипро\n",
              "1    Рефтинская ГРЭС    3800.0  Кузбассэнерго\n",
              "2   Костромская ГРЭС    3600.0      Интер РАО"
            ]
          },
          "metadata": {
            "tags": []
          },
          "execution_count": 3
        }
      ]
    },
    {
      "cell_type": "code",
      "metadata": {
        "id": "73-S5Ht7EU3g",
        "colab_type": "code",
        "colab": {
          "base_uri": "https://localhost:8080/",
          "height": 153
        },
        "outputId": "0c61aa45-74ab-4c3c-9c4f-841605e54b1d"
      },
      "source": [
        "# 3. Добавление строк\n",
        "# Для добавления строк можно использовать функцию append. По сути здесь создается еще одна таблица тем же способом, что df_init. Затем добавляется к df_init\n",
        "df_exted = df_init.append(pd.DataFrame({'Название': ['Пермская ГРЭС', 'Сургутская ГРЭС-1'], 'мощность': [3363, 3333], 'Собственник': ['Интер РАО', 'ОГК-2']}), ignore_index = True)\n",
        "\n",
        "# первые строки таблицы можно вывести на экран в более простом виде, применив функцию print.\n",
        "print(df_exted)\n",
        "print()\n",
        "\n",
        "# Получение списка имен столбцов\n",
        "print('имена столбцов:', df_exted.columns.values)"
      ],
      "execution_count": 4,
      "outputs": [
        {
          "output_type": "stream",
          "text": [
            "            Название  мощность    Собственник\n",
            "0  Сургутская ГРЭС-2    5657.1         Юнипро\n",
            "1    Рефтинская ГРЭС    3800.0  Кузбассэнерго\n",
            "2   Костромская ГРЭС    3600.0      Интер РАО\n",
            "3      Пермская ГРЭС    3363.0      Интер РАО\n",
            "4  Сургутская ГРЭС-1    3333.0          ОГК-2\n",
            "\n",
            "имена столбцов: ['Название' 'мощность' 'Собственник']\n"
          ],
          "name": "stdout"
        }
      ]
    },
    {
      "cell_type": "code",
      "metadata": {
        "id": "GIhW0pVEFTiu",
        "colab_type": "code",
        "outputId": "f1384db0-7d90-4b11-a5b8-e930c47760bf",
        "colab": {
          "base_uri": "https://localhost:8080/",
          "height": 255
        }
      },
      "source": [
        "# 4. Добавление столбца.\n",
        "# Например, добавим каждой станции регион\n",
        "df_exted.insert(0, 'Регион', ['Ханты-Мансийский АО', 'Свердловская область', 'Костромская область', 'Пермский край', 'Ханты-Мансийский АО'])\n",
        "\n",
        "print(df_exted)\n",
        "print()\n",
        "\n",
        "# Установка региона в качестве индекса строки\n",
        "df_exted = df_exted.set_index('Регион')\n",
        "\n",
        "print(df_exted)"
      ],
      "execution_count": 5,
      "outputs": [
        {
          "output_type": "stream",
          "text": [
            "                 Регион           Название  мощность    Собственник\n",
            "0   Ханты-Мансийский АО  Сургутская ГРЭС-2    5657.1         Юнипро\n",
            "1  Свердловская область    Рефтинская ГРЭС    3800.0  Кузбассэнерго\n",
            "2   Костромская область   Костромская ГРЭС    3600.0      Интер РАО\n",
            "3         Пермский край      Пермская ГРЭС    3363.0      Интер РАО\n",
            "4   Ханты-Мансийский АО  Сургутская ГРЭС-1    3333.0          ОГК-2\n",
            "\n",
            "                               Название  мощность    Собственник\n",
            "Регион                                                          \n",
            "Ханты-Мансийский АО   Сургутская ГРЭС-2    5657.1         Юнипро\n",
            "Свердловская область    Рефтинская ГРЭС    3800.0  Кузбассэнерго\n",
            "Костромская область    Костромская ГРЭС    3600.0      Интер РАО\n",
            "Пермский край             Пермская ГРЭС    3363.0      Интер РАО\n",
            "Ханты-Мансийский АО   Сургутская ГРЭС-1    3333.0          ОГК-2\n"
          ],
          "name": "stdout"
        }
      ]
    },
    {
      "cell_type": "code",
      "metadata": {
        "id": "YR8JXYAUG4qf",
        "colab_type": "code",
        "colab": {
          "base_uri": "https://localhost:8080/",
          "height": 272
        },
        "outputId": "0073550b-76b7-46d1-97c6-a7c2646a6eaa"
      },
      "source": [
        "# 5. Сортировка\n",
        "df_exted = df_exted.sort_values(['Название'])\n",
        "print(df_exted)\n",
        "print()\n",
        "\n",
        "# ascending задает сортировку по убыванию или возрастанию\n",
        "# по умолчанию True - сортировка по убыванию, если поставить False, то будет по возрастанию\n",
        "df_exted = df_exted.sort_values(['мощность'], ascending = False)\n",
        "print(df_exted)"
      ],
      "execution_count": 6,
      "outputs": [
        {
          "output_type": "stream",
          "text": [
            "                               Название  мощность    Собственник\n",
            "Регион                                                          \n",
            "Костромская область    Костромская ГРЭС    3600.0      Интер РАО\n",
            "Пермский край             Пермская ГРЭС    3363.0      Интер РАО\n",
            "Свердловская область    Рефтинская ГРЭС    3800.0  Кузбассэнерго\n",
            "Ханты-Мансийский АО   Сургутская ГРЭС-1    3333.0          ОГК-2\n",
            "Ханты-Мансийский АО   Сургутская ГРЭС-2    5657.1         Юнипро\n",
            "\n",
            "                               Название  мощность    Собственник\n",
            "Регион                                                          \n",
            "Ханты-Мансийский АО   Сургутская ГРЭС-2    5657.1         Юнипро\n",
            "Свердловская область    Рефтинская ГРЭС    3800.0  Кузбассэнерго\n",
            "Костромская область    Костромская ГРЭС    3600.0      Интер РАО\n",
            "Пермский край             Пермская ГРЭС    3363.0      Интер РАО\n",
            "Ханты-Мансийский АО   Сургутская ГРЭС-1    3333.0          ОГК-2\n"
          ],
          "name": "stdout"
        }
      ]
    },
    {
      "cell_type": "code",
      "metadata": {
        "id": "emRO7Wl8KuJU",
        "colab_type": "code",
        "colab": {
          "base_uri": "https://localhost:8080/",
          "height": 340
        },
        "outputId": "9f01c0aa-2ee1-44de-ec52-c0f178b836c3"
      },
      "source": [
        "# 6. Создание столбцов на основе вычислений.\n",
        "# Чтобы случайно не испортить df_exted, будем работать с копией\n",
        "df_exted_2 = df_exted.copy()\n",
        "\n",
        "# Добавление столбца на основе формулы делается легко\n",
        "df_exted_2['выработка_за_сутки'] = df_exted_2['мощность'] * 24 # 24 часа в сутках\n",
        "df_exted_2['тип'] = np.where(df_exted_2['Название'].str.find('ГРЭС-1') >= 0, 'ГРЭС-1', np.where(df_exted_2['Название'].str.find('ГРЭС-2') >= 0, 'ГРЭС-2', 'ГРЭС без циферки'))\n",
        "\n",
        "print(df_exted_2)\n",
        "print()\n",
        "\n",
        "# Легко применить расчеты, используя несколько столбцов сразу\n",
        "df_exted_2['проверка_расчетов'] =  df_exted_2['выработка_за_сутки'] / df_exted_2['мощность'] == 24\n",
        "print(df_exted_2)\n"
      ],
      "execution_count": 7,
      "outputs": [
        {
          "output_type": "stream",
          "text": [
            "                               Название  ...               тип\n",
            "Регион                                   ...                  \n",
            "Ханты-Мансийский АО   Сургутская ГРЭС-2  ...            ГРЭС-2\n",
            "Свердловская область    Рефтинская ГРЭС  ...  ГРЭС без циферки\n",
            "Костромская область    Костромская ГРЭС  ...  ГРЭС без циферки\n",
            "Пермский край             Пермская ГРЭС  ...  ГРЭС без циферки\n",
            "Ханты-Мансийский АО   Сургутская ГРЭС-1  ...            ГРЭС-1\n",
            "\n",
            "[5 rows x 5 columns]\n",
            "\n",
            "                               Название  ...  проверка_расчетов\n",
            "Регион                                   ...                   \n",
            "Ханты-Мансийский АО   Сургутская ГРЭС-2  ...              False\n",
            "Свердловская область    Рефтинская ГРЭС  ...               True\n",
            "Костромская область    Костромская ГРЭС  ...               True\n",
            "Пермский край             Пермская ГРЭС  ...               True\n",
            "Ханты-Мансийский АО   Сургутская ГРЭС-1  ...               True\n",
            "\n",
            "[5 rows x 6 columns]\n"
          ],
          "name": "stdout"
        }
      ]
    },
    {
      "cell_type": "markdown",
      "metadata": {
        "id": "1pZFvJAxYhdz",
        "colab_type": "text"
      },
      "source": [
        "При попытки проверки данных выходит такая ошибка (скриншот ниже), хотя до этого писал точно такой же код и работало.\n",
        "И почему-то показывает не полную таблицу.\n",
        "UPD: после замены \"Название ТЭС\" на \"Название\" заработало, но в одном столбце выдаёт false и всё также не показывает полную таблицу"
      ]
    },
    {
      "cell_type": "markdown",
      "metadata": {
        "id": "Vu5MTLlqYYti",
        "colab_type": "text"
      },
      "source": [
        "![image.png](data:image/png;base64,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)"
      ]
    },
    {
      "cell_type": "code",
      "metadata": {
        "id": "k2irsBeFY_Li",
        "colab_type": "code",
        "colab": {
          "base_uri": "https://localhost:8080/",
          "height": 850
        },
        "outputId": "5cefa8bc-c5ff-4069-e063-20e607878243"
      },
      "source": [
        "# 7. Выборка нужных фрагментов. Есть три основных способа выделения фрагментов.\n",
        "\n",
        "# 7.1. Через имя столбца или столбцов\n",
        "print('все данные из столбцов \\'Название\\' и \\'мощность\\'')\n",
        "print(df_exted_2[['Название', 'мощность']])\n",
        "print()\n",
        "print('все данные из столбца \\'Название\\'')\n",
        "print(df_exted_2.Название)\n",
        "print()\n",
        "\n",
        "# 7.2. Через loc по именам строк и столбцов\n",
        "print('данные из строк \\'Ханты-Мансийский АО\\' и \\'Костромская область\\' и столбцов \\'Название\\' и \\'мощность\\'')\n",
        "print(df_exted_2.loc[['Ханты-Мансийский АО', 'Костромская область'], ['Название', 'мощность']])\n",
        "print()\n",
        "print('все данные из строки \\'Пермский край\\'')\n",
        "print(df_exted_2.loc[['Пермский край']])\n",
        "print()\n",
        "\n",
        "# 7.3. Через iloc по номерам строк и столбцов, номера идут с нуля\n",
        "print('данные из первой строки и второго столбца')\n",
        "print(df_exted_2.iloc[1 , 2])\n",
        "print()\n",
        "print('данные из всех строк кроме двух последних и из столбцов со второго по четвертый включительно')\n",
        "print(df_exted_2.iloc[: -2, 2 : 5])\n",
        "print()\n",
        "print('данные из нечетных строк и третьего столбца')\n",
        "print(df_exted_2.iloc[ : : 2, 3])\n",
        "print()"
      ],
      "execution_count": 8,
      "outputs": [
        {
          "output_type": "stream",
          "text": [
            "все данные из столбцов 'Название' и 'мощность'\n",
            "                               Название  мощность\n",
            "Регион                                           \n",
            "Ханты-Мансийский АО   Сургутская ГРЭС-2    5657.1\n",
            "Свердловская область    Рефтинская ГРЭС    3800.0\n",
            "Костромская область    Костромская ГРЭС    3600.0\n",
            "Пермский край             Пермская ГРЭС    3363.0\n",
            "Ханты-Мансийский АО   Сургутская ГРЭС-1    3333.0\n",
            "\n",
            "все данные из столбца 'Название'\n",
            "Регион\n",
            "Ханты-Мансийский АО     Сургутская ГРЭС-2\n",
            "Свердловская область      Рефтинская ГРЭС\n",
            "Костромская область      Костромская ГРЭС\n",
            "Пермский край               Пермская ГРЭС\n",
            "Ханты-Мансийский АО     Сургутская ГРЭС-1\n",
            "Name: Название, dtype: object\n",
            "\n",
            "данные из строк 'Ханты-Мансийский АО' и 'Костромская область' и столбцов 'Название' и 'мощность'\n",
            "                              Название  мощность\n",
            "Регион                                          \n",
            "Ханты-Мансийский АО  Сургутская ГРЭС-2    5657.1\n",
            "Ханты-Мансийский АО  Сургутская ГРЭС-1    3333.0\n",
            "Костромская область   Костромская ГРЭС    3600.0\n",
            "\n",
            "все данные из строки 'Пермский край'\n",
            "                    Название  мощность  ...               тип  проверка_расчетов\n",
            "Регион                                  ...                                     \n",
            "Пермский край  Пермская ГРЭС    3363.0  ...  ГРЭС без циферки               True\n",
            "\n",
            "[1 rows x 6 columns]\n",
            "\n",
            "данные из первой строки и второго столбца\n",
            "Кузбассэнерго\n",
            "\n",
            "данные из всех строк кроме двух последних и из столбцов со второго по четвертый включительно\n",
            "                        Собственник  выработка_за_сутки               тип\n",
            "Регион                                                                   \n",
            "Ханты-Мансийский АО          Юнипро            135770.4            ГРЭС-2\n",
            "Свердловская область  Кузбассэнерго             91200.0  ГРЭС без циферки\n",
            "Костромская область       Интер РАО             86400.0  ГРЭС без циферки\n",
            "\n",
            "данные из нечетных строк и третьего столбца\n",
            "Регион\n",
            "Ханты-Мансийский АО    135770.4\n",
            "Костромская область     86400.0\n",
            "Ханты-Мансийский АО     79992.0\n",
            "Name: выработка_за_сутки, dtype: float64\n",
            "\n"
          ],
          "name": "stdout"
        }
      ]
    },
    {
      "cell_type": "code",
      "metadata": {
        "id": "6rblyse5b8y0",
        "colab_type": "code",
        "colab": {
          "base_uri": "https://localhost:8080/",
          "height": 170
        },
        "outputId": "50173f5b-d9a7-4c74-fc03-aef9e8474bed"
      },
      "source": [
        "# 8. Удаление столбцов.\n",
        "df_exted = df_exted_2.drop(['проверка_расчетов'], axis='columns')\n",
        "\n",
        "print(df_exted)"
      ],
      "execution_count": 9,
      "outputs": [
        {
          "output_type": "stream",
          "text": [
            "                               Название  ...               тип\n",
            "Регион                                   ...                  \n",
            "Ханты-Мансийский АО   Сургутская ГРЭС-2  ...            ГРЭС-2\n",
            "Свердловская область    Рефтинская ГРЭС  ...  ГРЭС без циферки\n",
            "Костромская область    Костромская ГРЭС  ...  ГРЭС без циферки\n",
            "Пермский край             Пермская ГРЭС  ...  ГРЭС без циферки\n",
            "Ханты-Мансийский АО   Сургутская ГРЭС-1  ...            ГРЭС-1\n",
            "\n",
            "[5 rows x 5 columns]\n"
          ],
          "name": "stdout"
        }
      ]
    },
    {
      "cell_type": "code",
      "metadata": {
        "id": "7l_CsUYsfqdd",
        "colab_type": "code",
        "colab": {
          "base_uri": "https://localhost:8080/",
          "height": 527
        },
        "outputId": "220be6ab-3337-4fd3-e2a6-abc28ba7958f"
      },
      "source": [
        "# 9. Выборка данных по условию.\n",
        "# Выбрать электростанции с мощностью выше 3700 МВт\n",
        "print(df_exted[df_exted['мощность'] > 3700.])\n",
        "print()\n",
        "\n",
        "# Можно писать короче, если имя столбца не содержит пробела, но у меня содержит (уже нет)\n",
        "print(df_exted[df_exted.мощность > 3700.])\n",
        "print() \n",
        "\n",
        "# Выбрать электростанции с мощностью выше 400 МВт и не от Интер РАО\n",
        "print(df_exted[(df_exted.мощность > 400.) & (df_exted.Собственник != 'Интер РАО')])\n",
        "print() \n",
        "\n",
        "# Выбрать электростанции с мощностью выше 3500 МВт или относящиеся к ГРЭС-1\n",
        "print(df_exted[(df_exted.мощность > 3500.) | (df_exted.тип == 'ГРЭС-1')])"
      ],
      "execution_count": 15,
      "outputs": [
        {
          "output_type": "stream",
          "text": [
            "                               Название  ...               тип\n",
            "Регион                                   ...                  \n",
            "Ханты-Мансийский АО   Сургутская ГРЭС-2  ...            ГРЭС-2\n",
            "Свердловская область    Рефтинская ГРЭС  ...  ГРЭС без циферки\n",
            "\n",
            "[2 rows x 5 columns]\n",
            "\n",
            "                               Название  ...               тип\n",
            "Регион                                   ...                  \n",
            "Ханты-Мансийский АО   Сургутская ГРЭС-2  ...            ГРЭС-2\n",
            "Свердловская область    Рефтинская ГРЭС  ...  ГРЭС без циферки\n",
            "\n",
            "[2 rows x 5 columns]\n",
            "\n",
            "                               Название  ...               тип\n",
            "Регион                                   ...                  \n",
            "Ханты-Мансийский АО   Сургутская ГРЭС-2  ...            ГРЭС-2\n",
            "Свердловская область    Рефтинская ГРЭС  ...  ГРЭС без циферки\n",
            "Ханты-Мансийский АО   Сургутская ГРЭС-1  ...            ГРЭС-1\n",
            "\n",
            "[3 rows x 5 columns]\n",
            "\n",
            "                               Название  ...               тип\n",
            "Регион                                   ...                  \n",
            "Ханты-Мансийский АО   Сургутская ГРЭС-2  ...            ГРЭС-2\n",
            "Свердловская область    Рефтинская ГРЭС  ...  ГРЭС без циферки\n",
            "Костромская область    Костромская ГРЭС  ...  ГРЭС без циферки\n",
            "Ханты-Мансийский АО   Сургутская ГРЭС-1  ...            ГРЭС-1\n",
            "\n",
            "[4 rows x 5 columns]\n"
          ],
          "name": "stdout"
        }
      ]
    },
    {
      "cell_type": "code",
      "metadata": {
        "id": "sBu9W8zkhpWT",
        "colab_type": "code",
        "colab": {
          "base_uri": "https://localhost:8080/",
          "height": 357
        },
        "outputId": "b5c4c77d-2255-4f0c-837c-b35b93283110"
      },
      "source": [
        "# 10. Статистические расчеты по сгруппированным данным.\n",
        "# Суммарная мощность по типа электростанций.\n",
        "print(df_exted.groupby(['тип'])['мощность'].sum())\n",
        "print()\n",
        "\n",
        "# Максимальная мощность по типам электростанций.\n",
        "print(df_exted.groupby(['тип'])['мощность'].max())\n",
        "print()\n",
        "\n",
        "# Число электростанций по мощности ниже и выше 3500 МВт и разделением по собственникам\n",
        "print(df_exted.groupby(['Собственник', df_exted['мощность'] > 3500])['мощность'].count())\n",
        "print()"
      ],
      "execution_count": 16,
      "outputs": [
        {
          "output_type": "stream",
          "text": [
            "тип\n",
            "ГРЭС без циферки    10763.0\n",
            "ГРЭС-1               3333.0\n",
            "ГРЭС-2               5657.1\n",
            "Name: мощность, dtype: float64\n",
            "\n",
            "тип\n",
            "ГРЭС без циферки    3800.0\n",
            "ГРЭС-1              3333.0\n",
            "ГРЭС-2              5657.1\n",
            "Name: мощность, dtype: float64\n",
            "\n",
            "Собственник    мощность\n",
            "Интер РАО      False       1\n",
            "               True        1\n",
            "Кузбассэнерго  True        1\n",
            "ОГК-2          False       1\n",
            "Юнипро         True        1\n",
            "Name: мощность, dtype: int64\n",
            "\n"
          ],
          "name": "stdout"
        }
      ]
    },
    {
      "cell_type": "code",
      "metadata": {
        "id": "F8n1Vq_ijUQC",
        "colab_type": "code",
        "colab": {
          "base_uri": "https://localhost:8080/",
          "height": 405
        },
        "outputId": "28aaf926-d78b-4f7f-8f0e-1366c82e5278"
      },
      "source": [
        "# 11. Быстрая визуализация данных.\n",
        "# В предыдущей работе для визуализации данных применялись отдельные библиотеки.\n",
        "# Но для быстрого получения графиков и гистограмм можно использовать очень простой код. \n",
        "df_exted.plot(kind = 'bar')\n",
        "print()"
      ],
      "execution_count": 17,
      "outputs": [
        {
          "output_type": "stream",
          "text": [
            "\n"
          ],
          "name": "stdout"
        },
        {
          "output_type": "display_data",
          "data": {
            "image/png": "[encoded data removed]",
            "text/plain": [
              "<Figure size 432x288 with 1 Axes>"
            ]
          },
          "metadata": {
            "tags": [],
            "needs_background": "light"
          }
        }
      ]
    },
    {
      "cell_type": "code",
      "metadata": {
        "id": "AfESohsBjcVg",
        "colab_type": "code",
        "colab": {
          "base_uri": "https://localhost:8080/",
          "height": 405
        },
        "outputId": "df982386-3208-4259-9aee-7faf977b25b0"
      },
      "source": [
        "# 12. Выбор столбцов для визуализации\n",
        "df_exted['мощность'].plot(kind = 'bar')\n",
        "print()"
      ],
      "execution_count": 18,
      "outputs": [
        {
          "output_type": "stream",
          "text": [
            "\n"
          ],
          "name": "stdout"
        },
        {
          "output_type": "display_data",
          "data": {
            "image/png": "[encoded data removed]",
            "text/plain": [
              "<Figure size 432x288 with 1 Axes>"
            ]
          },
          "metadata": {
            "tags": [],
            "needs_background": "light"
          }
        }
      ]
    },
    {
      "cell_type": "code",
      "metadata": {
        "id": "5igKHxDOje9M",
        "colab_type": "code",
        "colab": {
          "base_uri": "https://localhost:8080/",
          "height": 282
        },
        "outputId": "6791e756-5ee3-4beb-b437-a5d6623f0ea5"
      },
      "source": [
        "# 13. Гистограмма после группировки\n",
        "df_exted.groupby(['тип'])['мощность'].sum().plot(kind = 'barh')\n",
        "print()"
      ],
      "execution_count": 19,
      "outputs": [
        {
          "output_type": "stream",
          "text": [
            "\n"
          ],
          "name": "stdout"
        },
        {
          "output_type": "display_data",
          "data": {
            "image/png": "[encoded data removed]",
            "text/plain": [
              "<Figure size 432x288 with 1 Axes>"
            ]
          },
          "metadata": {
            "tags": [],
            "needs_background": "light"
          }
        }
      ]
    },
    {
      "cell_type": "code",
      "metadata": {
        "id": "7OIRk4y8jiC6",
        "colab_type": "code",
        "colab": {
          "base_uri": "https://localhost:8080/",
          "height": 119
        },
        "outputId": "417c0254-53ee-49a4-edc3-4d1b0e049fe8"
      },
      "source": [
        "# 14. Удаление строк по условию\n",
        "df_del = df_exted.drop(df_exted[df_exted['мощность'] < 3500].index)\n",
        "print(df_del)"
      ],
      "execution_count": 20,
      "outputs": [
        {
          "output_type": "stream",
          "text": [
            "                              Название  ...               тип\n",
            "Регион                                  ...                  \n",
            "Свердловская область   Рефтинская ГРЭС  ...  ГРЭС без циферки\n",
            "Костромская область   Костромская ГРЭС  ...  ГРЭС без циферки\n",
            "\n",
            "[2 rows x 5 columns]\n"
          ],
          "name": "stdout"
        }
      ]
    }
  ]
}